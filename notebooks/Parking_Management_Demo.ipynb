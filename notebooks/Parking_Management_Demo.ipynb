{
  "nbformat": 4,
  "nbformat_minor": 0,
  "metadata": {
    "colab": {
      "name": "Parking_Management_Demo.ipynb",
      "provenance": [],
      "collapsed_sections": [],
      "include_colab_link": true
    },
    "kernelspec": {
      "name": "python3",
      "display_name": "Python 3"
    },
    "accelerator": "GPU"
  },
  "cells": [
    {
      "cell_type": "markdown",
      "metadata": {
        "id": "view-in-github",
        "colab_type": "text"
      },
      "source": [
        "<a href=\"https://colab.research.google.com/github/aashish2000/Parking_Management/blob/main/notebooks/Parking_Management_Demo.ipynb\" target=\"_parent\"><img src=\"https://colab.research.google.com/assets/colab-badge.svg\" alt=\"Open In Colab\"/></a>"
      ]
    },
    {
      "cell_type": "code",
      "metadata": {
        "id": "4uK86y03eGzM"
      },
      "source": [
        "!git clone https://github.com/aashish2000/Parking_Management.git\n",
        "import os\n",
        "os.chdir(\"Parking_Management\")"
      ],
      "execution_count": null,
      "outputs": []
    },
    {
      "cell_type": "code",
      "metadata": {
        "id": "3uA3TH8fx392"
      },
      "source": [
        "!pip uninstall -y tensorflow-gpu tensorflow\n",
        "!pip install tensorflow-gpu==1.13.1\n",
        "!pip install keras==2.2.4\n",
        "!pip install 'h5py<3.0.0'\n",
        "!pip install fastapi\n",
        "!pip install uvicorn\n",
        "!pip install nest_asyncio\n",
        "!pip install asgiref\n",
        "!pip install aiofiles\n",
        "!pip install python-multipart\n",
        "!pip install pyngrok"
      ],
      "execution_count": null,
      "outputs": []
    },
    {
      "cell_type": "code",
      "metadata": {
        "id": "76PLlDUq6MM0"
      },
      "source": [
        "!cd darknet && make"
      ],
      "execution_count": null,
      "outputs": []
    },
    {
      "cell_type": "code",
      "metadata": {
        "id": "f5gRxTNMuPwV"
      },
      "source": [
        "!python main.py"
      ],
      "execution_count": null,
      "outputs": []
    }
  ]
}